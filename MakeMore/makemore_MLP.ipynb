{
 "cells": [
  {
   "cell_type": "markdown",
   "metadata": {},
   "source": [
    "# Multi Layer Perceptron application\n",
    "\n",
    "Unlike the previous sinlge layer perceptron, this notebook aims to achieve a **context** based understanding input characters more than the immediate previous character."
   ]
  },
  {
   "cell_type": "code",
   "execution_count": 2,
   "metadata": {},
   "outputs": [],
   "source": [
    "import torch\n",
    "import torch.nn.functional as F\n",
    "import matplotlib.pyplot as plt\n",
    "%matplotlib inline"
   ]
  },
  {
   "cell_type": "code",
   "execution_count": 5,
   "metadata": {},
   "outputs": [
    {
     "data": {
      "text/plain": [
       "['emma', 'olivia', 'ava', 'isabella', 'sophia', 'charlotte', 'mia', 'amelia']"
      ]
     },
     "execution_count": 5,
     "metadata": {},
     "output_type": "execute_result"
    }
   ],
   "source": [
    "words = open('names.txt', 'r').read().splitlines()\n",
    "words[:8]"
   ]
  },
  {
   "cell_type": "code",
   "execution_count": 6,
   "metadata": {},
   "outputs": [
    {
     "data": {
      "text/plain": [
       "32033"
      ]
     },
     "execution_count": 6,
     "metadata": {},
     "output_type": "execute_result"
    }
   ],
   "source": [
    "len(words)"
   ]
  },
  {
   "cell_type": "markdown",
   "metadata": {},
   "source": [
    "Creating a mapping of character to index"
   ]
  },
  {
   "cell_type": "code",
   "execution_count": 8,
   "metadata": {},
   "outputs": [
    {
     "name": "stdout",
     "output_type": "stream",
     "text": [
      "{1: 'a', 2: 'b', 3: 'c', 4: 'd', 5: 'e', 6: 'f', 7: 'g', 8: 'h', 9: 'i', 10: 'j', 11: 'k', 12: 'l', 13: 'm', 14: 'n', 15: 'o', 16: 'p', 17: 'q', 18: 'r', 19: 's', 20: 't', 21: 'u', 22: 'v', 23: 'w', 24: 'x', 25: 'y', 26: 'z', 0: '.'}\n"
     ]
    }
   ],
   "source": [
    "vocab = sorted(list(set(\"\".join(words))))\n",
    "ch_to_idx = {ch:idx+1 for idx,ch in enumerate(vocab)}\n",
    "ch_to_idx['.'] =0\n",
    "idx_to_ch = {idx:ch for ch,idx in ch_to_idx.items()}\n",
    "print(idx_to_ch)"
   ]
  },
  {
   "cell_type": "markdown",
   "metadata": {},
   "source": [
    "Creating a context based dataset "
   ]
  },
  {
   "cell_type": "code",
   "execution_count": 26,
   "metadata": {},
   "outputs": [
    {
     "name": "stdout",
     "output_type": "stream",
     "text": [
      "emma\n",
      "... ---> e\n",
      "0+0+0 ---> 5\n",
      "..e ---> m\n",
      "0+0+5 ---> 13\n",
      ".em ---> m\n",
      "0+5+13 ---> 13\n",
      "emm ---> a\n",
      "5+13+13 ---> 1\n",
      "mma ---> .\n",
      "13+13+1 ---> 0\n",
      "olivia\n",
      "... ---> o\n",
      "0+0+0 ---> 15\n",
      "..o ---> l\n",
      "0+0+15 ---> 12\n",
      ".ol ---> i\n",
      "0+15+12 ---> 9\n",
      "oli ---> v\n",
      "15+12+9 ---> 22\n",
      "liv ---> i\n",
      "12+9+22 ---> 9\n",
      "ivi ---> a\n",
      "9+22+9 ---> 1\n",
      "via ---> .\n",
      "22+9+1 ---> 0\n",
      "ava\n",
      "... ---> a\n",
      "0+0+0 ---> 1\n",
      "..a ---> v\n",
      "0+0+1 ---> 22\n",
      ".av ---> a\n",
      "0+1+22 ---> 1\n",
      "ava ---> .\n",
      "1+22+1 ---> 0\n",
      "isabella\n",
      "... ---> i\n",
      "0+0+0 ---> 9\n",
      "..i ---> s\n",
      "0+0+9 ---> 19\n",
      ".is ---> a\n",
      "0+9+19 ---> 1\n",
      "isa ---> b\n",
      "9+19+1 ---> 2\n",
      "sab ---> e\n",
      "19+1+2 ---> 5\n",
      "abe ---> l\n",
      "1+2+5 ---> 12\n",
      "bel ---> l\n",
      "2+5+12 ---> 12\n",
      "ell ---> a\n",
      "5+12+12 ---> 1\n",
      "lla ---> .\n",
      "12+12+1 ---> 0\n",
      "sophia\n",
      "... ---> s\n",
      "0+0+0 ---> 19\n",
      "..s ---> o\n",
      "0+0+19 ---> 15\n",
      ".so ---> p\n",
      "0+19+15 ---> 16\n",
      "sop ---> h\n",
      "19+15+16 ---> 8\n",
      "oph ---> i\n",
      "15+16+8 ---> 9\n",
      "phi ---> a\n",
      "16+8+9 ---> 1\n",
      "hia ---> .\n",
      "8+9+1 ---> 0\n"
     ]
    }
   ],
   "source": [
    "block_size = 3\n",
    "X,Y = [],[]\n",
    "\n",
    "for w in words[:5]:\n",
    "    print(w)\n",
    "    context = [0] * block_size\n",
    "\n",
    "    for ch in w + '.':\n",
    "        ix = ch_to_idx[ch]\n",
    "        X.append(context)\n",
    "        Y.append(ix)\n",
    "        print(''.join(idx_to_ch[i] for i in context), '--->', idx_to_ch[ix])\n",
    "        print('+'.join(f'{i}' for i in context), '--->', f'{ix}')\n",
    "        context = context[1:] + [ix]\n",
    "\n",
    "X = torch.tensor(X)\n",
    "Y = torch.tensor(Y)"
   ]
  },
  {
   "cell_type": "code",
   "execution_count": 28,
   "metadata": {},
   "outputs": [
    {
     "data": {
      "text/plain": [
       "(torch.Size([32, 3]), torch.int64, torch.Size([32]), torch.int64)"
      ]
     },
     "execution_count": 28,
     "metadata": {},
     "output_type": "execute_result"
    }
   ],
   "source": [
    "X.shape, X.dtype, Y.shape, Y.dtype"
   ]
  },
  {
   "cell_type": "markdown",
   "metadata": {},
   "source": [
    "Going forward, similar to one hot encoding of the inputs, we can represent the input using a 2 dimensional vector or an n dimensional vector. \n",
    "\n",
    "In one hot encoding, for a vocab size of 5 and encoding num class size of 5, will mark each input's row as 1 at the index and rest 0. \n",
    "\n",
    "In an n dimensional vector, the encoding can be seem different but is essentially the same, the input is being distributed among the dimensions (similar to num classes in one hot encoding) where row is a unique identifier for an input. "
   ]
  },
  {
   "cell_type": "code",
   "execution_count": 37,
   "metadata": {},
   "outputs": [],
   "source": [
    "C = torch.randn((27,2))"
   ]
  },
  {
   "cell_type": "code",
   "execution_count": 38,
   "metadata": {},
   "outputs": [
    {
     "data": {
      "text/plain": [
       "tensor([ 0.5437, -0.8155])"
      ]
     },
     "execution_count": 38,
     "metadata": {},
     "output_type": "execute_result"
    }
   ],
   "source": [
    "C[5]"
   ]
  },
  {
   "cell_type": "markdown",
   "metadata": {},
   "source": [
    "Instead of writing 5, [0.5437,-0.81551] communicates the same.\n",
    "\n",
    "The original tensor X is of the shape 32,3: 32 different inputs, where each of them is made up of 3 different numbers out of the voab of 27 characters.\n",
    "\n",
    "After embedding them using C, X will still be a 32 by 3 tensor with an additional dimension of 2, this 2 will represent each individual character(out of the three) which comprises an input. \n",
    "\n",
    "For example: \n",
    "Input 5 can be imagined as -> 5th row, having 3 columns(representing the 3 comprising characters), and each of the 3 columns are represented using 2 sub columns to show the same character using the embedded representation."
   ]
  },
  {
   "cell_type": "code",
   "execution_count": 40,
   "metadata": {},
   "outputs": [
    {
     "data": {
      "text/plain": [
       "torch.Size([32, 3, 2])"
      ]
     },
     "execution_count": 40,
     "metadata": {},
     "output_type": "execute_result"
    }
   ],
   "source": [
    "C[X].shape"
   ]
  },
  {
   "cell_type": "code",
   "execution_count": 44,
   "metadata": {},
   "outputs": [
    {
     "data": {
      "text/plain": [
       "tensor(15)"
      ]
     },
     "execution_count": 44,
     "metadata": {},
     "output_type": "execute_result"
    }
   ],
   "source": [
    "X[7,1] # 7th input's second character"
   ]
  },
  {
   "cell_type": "code",
   "execution_count": 46,
   "metadata": {},
   "outputs": [
    {
     "data": {
      "text/plain": [
       "tensor([ 1.6076, -1.5196])"
      ]
     },
     "execution_count": 46,
     "metadata": {},
     "output_type": "execute_result"
    }
   ],
   "source": [
    "C[X][7,1] # same character embedded in a 2 dimensional vector"
   ]
  },
  {
   "cell_type": "code",
   "execution_count": 47,
   "metadata": {},
   "outputs": [
    {
     "data": {
      "text/plain": [
       "torch.Size([32, 3, 2])"
      ]
     },
     "execution_count": 47,
     "metadata": {},
     "output_type": "execute_result"
    }
   ],
   "source": [
    "embeds = C[X]\n",
    "embeds.shape"
   ]
  },
  {
   "cell_type": "markdown",
   "metadata": {},
   "source": [
    "Initializing weights and biases for the nerual net layer. Since from each input, there are 3 characters where each character has an embedding of 2, so 3*2 = 6 weights are required per neuron. "
   ]
  },
  {
   "cell_type": "code",
   "execution_count": 50,
   "metadata": {},
   "outputs": [],
   "source": [
    "W1 = torch.randn((6,100)) # creating a 100 neurons in the first layer\n",
    "b1 = torch.randn(100) # creating bias for 100 neurons"
   ]
  },
  {
   "cell_type": "markdown",
   "metadata": {},
   "source": [
    "As of now, W(6,32) and embeds(32,3,2) are not of the shapes compatible for a matrix multiplication.\n",
    "\n",
    "To convert W to (32,6):"
   ]
  },
  {
   "cell_type": "code",
   "execution_count": 54,
   "metadata": {},
   "outputs": [
    {
     "data": {
      "text/plain": [
       "tensor([[ 6.7313e-01, -9.1491e-01],\n",
       "        [ 6.7313e-01, -9.1491e-01],\n",
       "        [ 6.7313e-01, -9.1491e-01],\n",
       "        [ 5.4367e-01, -8.1549e-01],\n",
       "        [ 8.7726e-01,  1.1749e-01],\n",
       "        [ 6.7313e-01, -9.1491e-01],\n",
       "        [ 6.7313e-01, -9.1491e-01],\n",
       "        [ 6.7313e-01, -9.1491e-01],\n",
       "        [ 1.6076e+00, -1.5196e+00],\n",
       "        [-1.5131e-01,  8.5584e-01],\n",
       "        [ 5.8478e-01,  1.1425e+00],\n",
       "        [-9.5415e-01, -1.7303e+00],\n",
       "        [ 6.7313e-01, -9.1491e-01],\n",
       "        [ 6.7313e-01, -9.1491e-01],\n",
       "        [ 6.7313e-01, -9.1491e-01],\n",
       "        [ 7.9055e-01, -2.8307e+00],\n",
       "        [ 6.7313e-01, -9.1491e-01],\n",
       "        [ 6.7313e-01, -9.1491e-01],\n",
       "        [ 6.7313e-01, -9.1491e-01],\n",
       "        [ 5.8478e-01,  1.1425e+00],\n",
       "        [-1.1815e+00, -9.8178e-01],\n",
       "        [ 7.9055e-01, -2.8307e+00],\n",
       "        [ 4.8101e-02, -1.8436e-01],\n",
       "        [ 5.4367e-01, -8.1549e-01],\n",
       "        [-1.5131e-01,  8.5584e-01],\n",
       "        [ 6.7313e-01, -9.1491e-01],\n",
       "        [ 6.7313e-01, -9.1491e-01],\n",
       "        [ 6.7313e-01, -9.1491e-01],\n",
       "        [-1.1815e+00, -9.8178e-01],\n",
       "        [ 1.6076e+00, -1.5196e+00],\n",
       "        [-1.3675e+00, -1.2810e-03],\n",
       "        [ 1.9626e-01,  2.1753e+00]])"
      ]
     },
     "execution_count": 54,
     "metadata": {},
     "output_type": "execute_result"
    }
   ],
   "source": [
    "# this can be read as:\n",
    "embeds[:,0,:]\n",
    "# from all the inputs, select the first character, and give both embeddings\n",
    "\n",
    "# hence this will be of the shape 32,2\n",
    "# similarly, we need to find tensors of other two charcters in an input as well and concatenate all\n",
    "# to create a single matrix of all 32 inputs and all 6 embedding representations\n",
    "# 32,6"
   ]
  },
  {
   "cell_type": "code",
   "execution_count": 58,
   "metadata": {},
   "outputs": [
    {
     "data": {
      "text/plain": [
       "torch.Size([32, 6])"
      ]
     },
     "execution_count": 58,
     "metadata": {},
     "output_type": "execute_result"
    }
   ],
   "source": [
    "torch.cat([embeds[:,0,:],embeds[:,1,:],embeds[:,2,:]], dim=1).shape"
   ]
  },
  {
   "cell_type": "code",
   "execution_count": 60,
   "metadata": {},
   "outputs": [
    {
     "data": {
      "text/plain": [
       "3"
      ]
     },
     "execution_count": 60,
     "metadata": {},
     "output_type": "execute_result"
    }
   ],
   "source": [
    "# to get the list passed into cat above, \n",
    "len(torch.unbind(embeds,dim =1))"
   ]
  },
  {
   "cell_type": "markdown",
   "metadata": {},
   "source": [
    "This generalizes our code to be able to perform this operation irrespective of the block size mentioned.\n",
    "\n",
    "However, the cat method is not efficient since it creates a new tensor hence allocating more space."
   ]
  },
  {
   "cell_type": "code",
   "execution_count": 61,
   "metadata": {},
   "outputs": [
    {
     "data": {
      "text/plain": [
       "torch.Size([32, 6])"
      ]
     },
     "execution_count": 61,
     "metadata": {},
     "output_type": "execute_result"
    }
   ],
   "source": [
    "torch.cat(torch.unbind(embeds,dim = 1),dim = 1).shape"
   ]
  },
  {
   "cell_type": "markdown",
   "metadata": {},
   "source": [
    "Another way to go around this is by leveraging the **storage** and **view** property of a tensor. \n",
    "\n",
    "assume a tensor t, t.storage() contains all(12) the elements present inside the tensor. As long as the total number of elements is maintianed, the tensor can be represented in any dimensional format using view.\n",
    "\n",
    "for example: \n",
    "\n",
    "t.view(6,2)\n",
    "t.view(2,6)\n",
    "t.view(3,2,2)\n",
    "t.view(4,3), etc and etc"
   ]
  },
  {
   "cell_type": "code",
   "execution_count": 64,
   "metadata": {},
   "outputs": [],
   "source": [
    "t = torch.arange(12)"
   ]
  },
  {
   "cell_type": "code",
   "execution_count": 63,
   "metadata": {},
   "outputs": [
    {
     "name": "stderr",
     "output_type": "stream",
     "text": [
      "/var/folders/ph/5hgyd1hn7dgcjfc5l9h535tc0000gn/T/ipykernel_20156/1911556638.py:1: UserWarning: TypedStorage is deprecated. It will be removed in the future and UntypedStorage will be the only storage class. This should only matter to you if you are using storages directly.  To access UntypedStorage directly, use tensor.untyped_storage() instead of tensor.storage()\n",
      "  t.storage()\n"
     ]
    },
    {
     "data": {
      "text/plain": [
       " 0\n",
       " 1\n",
       " 2\n",
       " 3\n",
       " 4\n",
       " 5\n",
       " 6\n",
       " 7\n",
       " 8\n",
       " 9\n",
       "[torch.storage.TypedStorage(dtype=torch.int64, device=cpu) of size 10]"
      ]
     },
     "execution_count": 63,
     "metadata": {},
     "output_type": "execute_result"
    }
   ],
   "source": [
    "t.storage()"
   ]
  },
  {
   "cell_type": "code",
   "execution_count": 67,
   "metadata": {},
   "outputs": [
    {
     "data": {
      "text/plain": [
       "tensor([[[ 0,  1],\n",
       "         [ 2,  3],\n",
       "         [ 4,  5]],\n",
       "\n",
       "        [[ 6,  7],\n",
       "         [ 8,  9],\n",
       "         [10, 11]]])"
      ]
     },
     "execution_count": 67,
     "metadata": {},
     "output_type": "execute_result"
    }
   ],
   "source": [
    "t.view(2,3,2)"
   ]
  },
  {
   "cell_type": "markdown",
   "metadata": {},
   "source": [
    "Multiplication to achieve hidden states:"
   ]
  },
  {
   "cell_type": "code",
   "execution_count": 71,
   "metadata": {},
   "outputs": [],
   "source": [
    "h = torch.tanh(embeds.view(embeds.shape[0],6) @ W1 + b1)"
   ]
  },
  {
   "cell_type": "code",
   "execution_count": 70,
   "metadata": {},
   "outputs": [
    {
     "data": {
      "text/plain": [
       "torch.Size([32, 100])"
      ]
     },
     "execution_count": 70,
     "metadata": {},
     "output_type": "execute_result"
    }
   ],
   "source": [
    "h.shape"
   ]
  },
  {
   "cell_type": "code",
   "execution_count": 72,
   "metadata": {},
   "outputs": [
    {
     "data": {
      "text/plain": [
       "tensor([[ 0.6539,  0.9206, -0.7172,  ..., -0.9792, -0.8934,  0.9744],\n",
       "        [ 0.4943,  0.9098, -0.7511,  ..., -0.9784, -0.8942,  0.9670],\n",
       "        [-0.7213,  0.9239, -0.8285,  ..., -0.9558, -0.7211,  0.9293],\n",
       "        ...,\n",
       "        [-1.0000, -0.4245,  0.7901,  ..., -0.9976, -0.9246, -0.9766],\n",
       "        [-0.9254,  0.3353, -0.9545,  ...,  0.0908,  0.4027,  0.1824],\n",
       "        [ 1.0000,  0.4070,  0.9891,  ..., -0.9974,  0.7209,  0.9902]])"
      ]
     },
     "execution_count": 72,
     "metadata": {},
     "output_type": "execute_result"
    }
   ],
   "source": [
    "h"
   ]
  },
  {
   "cell_type": "code",
   "execution_count": 76,
   "metadata": {},
   "outputs": [],
   "source": [
    "W2 = torch.randn((100,27))\n",
    "b2 = torch.randn(27)"
   ]
  },
  {
   "cell_type": "code",
   "execution_count": 77,
   "metadata": {},
   "outputs": [],
   "source": [
    "logits = h @ W2 + b2"
   ]
  },
  {
   "cell_type": "code",
   "execution_count": 79,
   "metadata": {},
   "outputs": [
    {
     "data": {
      "text/plain": [
       "torch.Size([32, 27])"
      ]
     },
     "execution_count": 79,
     "metadata": {},
     "output_type": "execute_result"
    }
   ],
   "source": [
    "logits.shape"
   ]
  },
  {
   "cell_type": "code",
   "execution_count": 80,
   "metadata": {},
   "outputs": [],
   "source": [
    "counts = logits.exp()"
   ]
  },
  {
   "cell_type": "code",
   "execution_count": 81,
   "metadata": {},
   "outputs": [],
   "source": [
    "probab = counts / counts.sum(dim = 1, keepdim=True)"
   ]
  },
  {
   "cell_type": "code",
   "execution_count": 82,
   "metadata": {},
   "outputs": [
    {
     "data": {
      "text/plain": [
       "torch.Size([32, 27])"
      ]
     },
     "execution_count": 82,
     "metadata": {},
     "output_type": "execute_result"
    }
   ],
   "source": [
    "probab.shape"
   ]
  },
  {
   "cell_type": "markdown",
   "metadata": {},
   "source": [
    "torch.arange(32) gives values 0 to 31, representing all the 32 outputs (consider this as i), \n",
    "\n",
    "**keep in mind probab is of shape 32,27 where 27 represents the vocab size**\n",
    "\n",
    "For each of those i, Y[i] (which is the true label(next true character)) is extracted.\n",
    "\n",
    "This makes Probab[i,Y[i]] give the probability of Y[i] being the output of the ith input. "
   ]
  },
  {
   "cell_type": "code",
   "execution_count": 87,
   "metadata": {},
   "outputs": [
    {
     "data": {
      "text/plain": [
       "tensor([3.1370e-07, 1.0844e-04, 1.8914e-01, 1.9146e-05, 1.5718e-01, 8.7319e-06,\n",
       "        9.9883e-07, 1.6284e-07, 2.3133e-15, 5.1365e-06, 1.3431e-13, 2.5157e-08,\n",
       "        6.5754e-03, 3.9146e-12, 3.8384e-04, 2.4137e-11, 1.0761e-06, 1.0851e-06,\n",
       "        5.5248e-01, 1.8660e-03, 5.2377e-14, 8.4863e-06, 4.2127e-10, 3.6808e-07,\n",
       "        3.8103e-01, 1.4696e-09, 4.7032e-05, 4.7789e-08, 7.1945e-01, 2.4122e-08,\n",
       "        1.2160e-11, 9.4102e-01])"
      ]
     },
     "execution_count": 87,
     "metadata": {},
     "output_type": "execute_result"
    }
   ],
   "source": [
    "probab[torch.arange(32), Y]"
   ]
  },
  {
   "cell_type": "markdown",
   "metadata": {},
   "source": [
    "Ideally, the output of this should be all 1, since they are the true next characters.\n",
    "\n",
    "The probabilites of occurance of actual next characters for input is very low, which indicates that the network is not performing well. (obviously since it is not yet trained)"
   ]
  },
  {
   "cell_type": "code",
   "execution_count": 91,
   "metadata": {},
   "outputs": [
    {
     "data": {
      "text/plain": [
       "tensor(13.7625)"
      ]
     },
     "execution_count": 91,
     "metadata": {},
     "output_type": "execute_result"
    }
   ],
   "source": [
    "loss = -probab[torch.arange(32), Y].log().mean()\n",
    "loss # negative log likelihood loss"
   ]
  },
  {
   "cell_type": "markdown",
   "metadata": {},
   "source": [
    "calculating loss using pytorch:"
   ]
  },
  {
   "cell_type": "code",
   "execution_count": 92,
   "metadata": {},
   "outputs": [
    {
     "data": {
      "text/plain": [
       "tensor(13.7625)"
      ]
     },
     "execution_count": 92,
     "metadata": {},
     "output_type": "execute_result"
    }
   ],
   "source": [
    "loss = F.cross_entropy(logits, Y)\n",
    "loss"
   ]
  },
  {
   "cell_type": "markdown",
   "metadata": {},
   "source": [
    "Summary of the neural net parameters:"
   ]
  },
  {
   "cell_type": "code",
   "execution_count": 94,
   "metadata": {},
   "outputs": [
    {
     "data": {
      "text/plain": [
       "3481"
      ]
     },
     "execution_count": 94,
     "metadata": {},
     "output_type": "execute_result"
    }
   ],
   "source": [
    "parameters = [C,W1,b1,W2,b2]\n",
    "total_params = sum(p.nelement() for p in parameters)\n",
    "total_params"
   ]
  },
  {
   "cell_type": "markdown",
   "metadata": {},
   "source": [
    "Setting the training step:"
   ]
  },
  {
   "cell_type": "code",
   "execution_count": 106,
   "metadata": {},
   "outputs": [],
   "source": [
    "g = torch.Generator().manual_seed(2147483647)\n",
    "C = torch.randn((27,2), generator = g)\n",
    "W1 = torch.randn((6,100), generator=g)\n",
    "b1 = torch.randn(100, generator=g)\n",
    "W2 = torch.randn((100,27), generator=g)\n",
    "b2 = torch.randn(27, generator=g)\n",
    "parameters = [C,W1,b1,W2,b2]"
   ]
  },
  {
   "cell_type": "code",
   "execution_count": 107,
   "metadata": {},
   "outputs": [],
   "source": [
    "for p in parameters:\n",
    "    p.requires_grad = True"
   ]
  },
  {
   "cell_type": "code",
   "execution_count": 108,
   "metadata": {},
   "outputs": [
    {
     "name": "stdout",
     "output_type": "stream",
     "text": [
      "17.76971435546875\n",
      "13.656402587890625\n",
      "11.298770904541016\n",
      "9.452457427978516\n",
      "7.984264373779297\n",
      "6.891321182250977\n",
      "6.100014686584473\n",
      "5.452036380767822\n",
      "4.898151874542236\n",
      "4.414664268493652\n",
      "3.9858498573303223\n",
      "3.6028308868408203\n",
      "3.262141466140747\n",
      "2.961381196975708\n",
      "2.6982975006103516\n",
      "2.469712495803833\n",
      "2.2716610431671143\n",
      "2.1012837886810303\n",
      "1.9571774005889893\n",
      "1.8374857902526855\n",
      "1.7380964756011963\n",
      "1.6535117626190186\n",
      "1.5790901184082031\n",
      "1.5117672681808472\n",
      "1.4496049880981445\n",
      "1.391312599182129\n",
      "1.335992693901062\n",
      "1.2830532789230347\n",
      "1.232191801071167\n",
      "1.1833819150924683\n",
      "1.1367990970611572\n",
      "1.0926649570465088\n",
      "1.0510928630828857\n",
      "1.012027382850647\n",
      "0.9752706289291382\n",
      "0.9405569434165955\n",
      "0.907612681388855\n",
      "0.8761923909187317\n",
      "0.8460896015167236\n",
      "0.8171358704566956\n",
      "0.7891994714736938\n",
      "0.7621749043464661\n",
      "0.7359817624092102\n",
      "0.710558295249939\n",
      "0.685861349105835\n",
      "0.6618653535842896\n",
      "0.6385660171508789\n",
      "0.6159822940826416\n",
      "0.5941660404205322\n",
      "0.5732106566429138\n",
      "0.5532564520835876\n",
      "0.5344884991645813\n",
      "0.5171173214912415\n",
      "0.5013316869735718\n",
      "0.4872431755065918\n",
      "0.47484081983566284\n",
      "0.463998019695282\n",
      "0.4545147716999054\n",
      "0.44617143273353577\n",
      "0.4387666583061218\n",
      "0.4321335256099701\n",
      "0.42613908648490906\n",
      "0.42068007588386536\n",
      "0.4156756103038788\n",
      "0.41106167435646057\n",
      "0.40678736567497253\n",
      "0.40281081199645996\n",
      "0.3990974426269531\n",
      "0.3956182599067688\n",
      "0.39234787225723267\n",
      "0.3892655074596405\n",
      "0.3863520920276642\n",
      "0.3835917115211487\n",
      "0.3809700906276703\n",
      "0.3784741759300232\n",
      "0.3760930299758911\n",
      "0.37381646037101746\n",
      "0.37163496017456055\n",
      "0.3695409595966339\n",
      "0.3675268888473511\n",
      "0.3655855357646942\n",
      "0.3637113571166992\n",
      "0.36189839243888855\n",
      "0.36014169454574585\n",
      "0.35843634605407715\n",
      "0.35677802562713623\n",
      "0.35516270995140076\n",
      "0.35358691215515137\n",
      "0.3520469665527344\n",
      "0.35053980350494385\n",
      "0.3490622341632843\n",
      "0.3476121425628662\n",
      "0.34618648886680603\n",
      "0.3447834849357605\n",
      "0.34340086579322815\n",
      "0.34203672409057617\n",
      "0.3406897783279419\n",
      "0.339358389377594\n",
      "0.3380417823791504\n",
      "0.3367387056350708\n",
      "0.3354485034942627\n",
      "0.33417096734046936\n",
      "0.3329057991504669\n",
      "0.3316527307033539\n",
      "0.3304123282432556\n",
      "0.32918474078178406\n",
      "0.3279705047607422\n",
      "0.3267703354358673\n",
      "0.32558518648147583\n",
      "0.32441574335098267\n",
      "0.3232628107070923\n",
      "0.32212767004966736\n",
      "0.3210110664367676\n",
      "0.31991374492645264\n",
      "0.3188365697860718\n",
      "0.3177802860736847\n",
      "0.31674546003341675\n",
      "0.3157326579093933\n",
      "0.3147422671318054\n",
      "0.3137742578983307\n",
      "0.31282901763916016\n",
      "0.3119066059589386\n",
      "0.3110067546367645\n",
      "0.3101293444633484\n",
      "0.3092740774154663\n",
      "0.30844077467918396\n",
      "0.3076289892196655\n",
      "0.30683818459510803\n",
      "0.30606791377067566\n",
      "0.305317759513855\n",
      "0.30458712577819824\n",
      "0.3038754463195801\n",
      "0.3031821548938751\n",
      "0.30250683426856995\n",
      "0.301848828792572\n",
      "0.30120760202407837\n",
      "0.30058252811431885\n",
      "0.2999732494354248\n",
      "0.2993791699409485\n",
      "0.29879963397979736\n",
      "0.29823437333106995\n",
      "0.2976827323436737\n",
      "0.2971443235874176\n",
      "0.2966187000274658\n",
      "0.29610544443130493\n",
      "0.2956041693687439\n",
      "0.29511430859565735\n",
      "0.2946355640888214\n",
      "0.294167697429657\n",
      "0.2937101721763611\n",
      "0.2932628393173218\n",
      "0.2928251028060913\n",
      "0.2923968732357025\n",
      "0.29197782278060913\n",
      "0.29156744480133057\n",
      "0.29116570949554443\n",
      "0.2907722294330597\n",
      "0.29038676619529724\n",
      "0.29000914096832275\n",
      "0.2896389961242676\n",
      "0.2892761826515198\n",
      "0.28892049193382263\n",
      "0.28857162594795227\n",
      "0.28822946548461914\n",
      "0.28789374232292175\n",
      "0.28756439685821533\n",
      "0.2872411608695984\n",
      "0.2869238555431366\n",
      "0.28661227226257324\n",
      "0.28630638122558594\n",
      "0.2860058546066284\n",
      "0.28571072220802307\n",
      "0.2854207754135132\n",
      "0.28513577580451965\n",
      "0.2848556339740753\n",
      "0.28458040952682495\n",
      "0.2843097448348999\n",
      "0.28404366970062256\n",
      "0.28378188610076904\n",
      "0.2835245132446289\n",
      "0.28327125310897827\n",
      "0.2830221354961395\n",
      "0.28277695178985596\n",
      "0.2825356423854828\n",
      "0.28229814767837524\n",
      "0.28206440806388855\n",
      "0.2818341851234436\n",
      "0.2816075384616852\n",
      "0.2813843786716461\n",
      "0.2811644971370697\n",
      "0.28094789385795593\n",
      "0.2807345390319824\n",
      "0.2805244028568268\n",
      "0.2803172469139099\n",
      "0.2801130414009094\n",
      "0.2799118459224701\n",
      "0.27971357107162476\n",
      "0.2795180678367615\n",
      "0.2793251574039459\n",
      "0.2791350781917572\n",
      "0.2789476215839386\n",
      "0.2787627577781677\n",
      "0.27858033776283264\n",
      "0.2784004509449005\n",
      "0.278222918510437\n",
      "0.27804774045944214\n",
      "0.27787497639656067\n",
      "0.2777044177055359\n",
      "0.27753615379333496\n",
      "0.27736997604370117\n",
      "0.2772060036659241\n",
      "0.2770441174507141\n",
      "0.2768842875957489\n",
      "0.27672645449638367\n",
      "0.27657055854797363\n",
      "0.27641668915748596\n",
      "0.2762646973133087\n",
      "0.2761145234107971\n",
      "0.27596622705459595\n",
      "0.27581971883773804\n",
      "0.275674968957901\n",
      "0.27553194761276245\n",
      "0.275390625\n",
      "0.27525097131729126\n",
      "0.27511292695999146\n",
      "0.27497655153274536\n",
      "0.2748417556285858\n",
      "0.27470850944519043\n",
      "0.2745768129825592\n",
      "0.2744465470314026\n",
      "0.27431780099868774\n",
      "0.2741904556751251\n",
      "0.2740646004676819\n",
      "0.27394014596939087\n",
      "0.2738170027732849\n",
      "0.2736952602863312\n",
      "0.2735748291015625\n",
      "0.27345573902130127\n",
      "0.27333787083625793\n",
      "0.27322131395339966\n",
      "0.27310600876808167\n",
      "0.27299192547798157\n",
      "0.272879034280777\n",
      "0.2727673053741455\n",
      "0.27265676856040955\n",
      "0.2725474238395691\n",
      "0.272439181804657\n",
      "0.27233201265335083\n",
      "0.2722259759902954\n",
      "0.27212101221084595\n",
      "0.27201709151268005\n",
      "0.2719142436981201\n",
      "0.27181243896484375\n",
      "0.27171167731285095\n",
      "0.2716117799282074\n",
      "0.2715129852294922\n",
      "0.271415114402771\n",
      "0.2713181972503662\n",
      "0.27122217416763306\n",
      "0.2711271643638611\n",
      "0.27103301882743835\n",
      "0.27093976736068726\n",
      "0.2708474397659302\n",
      "0.27075597643852234\n",
      "0.27066537737846375\n",
      "0.2705756425857544\n",
      "0.27048665285110474\n",
      "0.27039864659309387\n",
      "0.27031126618385315\n",
      "0.27022480964660645\n",
      "0.2701391279697418\n",
      "0.27005425095558167\n",
      "0.2699700891971588\n",
      "0.26988673210144043\n",
      "0.26980412006378174\n",
      "0.26972222328186035\n",
      "0.26964104175567627\n",
      "0.2695606052875519\n",
      "0.2694808542728424\n",
      "0.26940181851387024\n",
      "0.269323468208313\n",
      "0.26924580335617065\n",
      "0.2691688537597656\n",
      "0.26909253001213074\n",
      "0.2690168023109436\n",
      "0.2689417898654938\n",
      "0.2688674330711365\n",
      "0.26879364252090454\n",
      "0.2687205672264099\n",
      "0.2686479985713959\n",
      "0.26857608556747437\n",
      "0.268504798412323\n",
      "0.2684340476989746\n",
      "0.26836392283439636\n",
      "0.2682943344116211\n",
      "0.26822537183761597\n",
      "0.2681569457054138\n",
      "0.26808908581733704\n",
      "0.2680217921733856\n",
      "0.26795494556427\n",
      "0.2678886950016022\n",
      "0.2678229808807373\n",
      "0.26775774359703064\n",
      "0.26769310235977173\n",
      "0.267628937959671\n",
      "0.2675652801990509\n",
      "0.267502099275589\n",
      "0.2674393951892853\n",
      "0.26737719774246216\n",
      "0.267315536737442\n",
      "0.2672543227672577\n",
      "0.2671935260295868\n",
      "0.2671332359313965\n",
      "0.2670733630657196\n",
      "0.2670140266418457\n",
      "0.26695507764816284\n",
      "0.2668965756893158\n",
      "0.2668384909629822\n",
      "0.26678091287612915\n",
      "0.26672372221946716\n",
      "0.2666669487953186\n",
      "0.2666105628013611\n",
      "0.26655468344688416\n",
      "0.2664991617202759\n",
      "0.26644399762153625\n",
      "0.26638928055763245\n",
      "0.26633498072624207\n",
      "0.26628100872039795\n",
      "0.26622751355171204\n",
      "0.26617431640625\n",
      "0.2661215364933014\n",
      "0.2660691440105438\n",
      "0.2660171091556549\n",
      "0.26596540212631226\n",
      "0.2659141421318054\n",
      "0.26586320996284485\n",
      "0.26581260561943054\n",
      "0.2657623887062073\n",
      "0.26571252942085266\n",
      "0.2656629681587219\n",
      "0.26561373472213745\n",
      "0.265564888715744\n",
      "0.26551634073257446\n",
      "0.26546818017959595\n",
      "0.2654203176498413\n",
      "0.26537278294563293\n",
      "0.26532554626464844\n",
      "0.2652786374092102\n",
      "0.26523205637931824\n",
      "0.26518580317497253\n",
      "0.26513978838920593\n",
      "0.26509416103363037\n",
      "0.2650488018989563\n",
      "0.2650037407875061\n",
      "0.264958918094635\n",
      "0.26491448283195496\n",
      "0.264870285987854\n",
      "0.2648264169692993\n",
      "0.26478278636932373\n",
      "0.2647394835948944\n",
      "0.2646964490413666\n",
      "0.26465362310409546\n",
      "0.264611154794693\n",
      "0.26456889510154724\n",
      "0.26452696323394775\n",
      "0.264485239982605\n",
      "0.2644438147544861\n",
      "0.2644026577472687\n",
      "0.26436173915863037\n",
      "0.26432105898857117\n",
      "0.26428067684173584\n",
      "0.2642405331134796\n",
      "0.2642006278038025\n",
      "0.26416099071502686\n",
      "0.2641215920448303\n",
      "0.2640824019908905\n",
      "0.26404350996017456\n",
      "0.26400476694107056\n",
      "0.26396632194519043\n",
      "0.2639281451702118\n",
      "0.2638901472091675\n",
      "0.26385238766670227\n",
      "0.26381486654281616\n",
      "0.26377755403518677\n",
      "0.2637404203414917\n",
      "0.2637036442756653\n",
      "0.26366695761680603\n",
      "0.2636305093765259\n",
      "0.26359429955482483\n",
      "0.2635582685470581\n",
      "0.26352250576019287\n",
      "0.26348692178726196\n",
      "0.26345154643058777\n",
      "0.2634163796901703\n",
      "0.2633814811706543\n",
      "0.26334667205810547\n",
      "0.26331210136413574\n",
      "0.2632777690887451\n",
      "0.26324358582496643\n",
      "0.26320961117744446\n",
      "0.2631758749485016\n",
      "0.26314231753349304\n",
      "0.26310890913009644\n",
      "0.26307570934295654\n",
      "0.263042688369751\n",
      "0.26300984621047974\n",
      "0.2629772126674652\n",
      "0.262944757938385\n",
      "0.26291245222091675\n",
      "0.2628803551197052\n",
      "0.262848436832428\n",
      "0.2628166675567627\n",
      "0.2627851068973541\n",
      "0.2627537250518799\n",
      "0.26272252202033997\n",
      "0.2626914381980896\n",
      "0.26266059279441833\n",
      "0.26262983679771423\n",
      "0.26259928941726685\n",
      "0.26256895065307617\n",
      "0.26253870129585266\n",
      "0.26250866055488586\n",
      "0.262478768825531\n",
      "0.2624490261077881\n",
      "0.2624194622039795\n",
      "0.26239001750946045\n",
      "0.26236075162887573\n",
      "0.26233166456222534\n",
      "0.2623027265071869\n",
      "0.262273907661438\n",
      "0.2622452676296234\n",
      "0.2622167468070984\n",
      "0.2621884346008301\n",
      "0.26216018199920654\n",
      "0.26213210821151733\n",
      "0.26210424304008484\n",
      "0.2620764374732971\n",
      "0.2620488703250885\n",
      "0.26202139258384705\n",
      "0.26199400424957275\n",
      "0.2619668245315552\n",
      "0.26193979382514954\n",
      "0.26191282272338867\n",
      "0.2618860602378845\n",
      "0.2618594169616699\n",
      "0.2618328928947449\n",
      "0.2618064880371094\n",
      "0.2617802619934082\n",
      "0.26175418496131897\n",
      "0.2617281973361969\n",
      "0.26170235872268677\n",
      "0.2616766393184662\n",
      "0.26165100932121277\n",
      "0.26162558794021606\n",
      "0.2616002559661865\n",
      "0.26157501339912415\n",
      "0.26155000925064087\n",
      "0.2615250051021576\n",
      "0.2615002393722534\n",
      "0.2614755928516388\n",
      "0.26145100593566895\n",
      "0.2614266276359558\n",
      "0.26140233874320984\n",
      "0.2613781690597534\n",
      "0.2613542079925537\n",
      "0.26133036613464355\n",
      "0.26130664348602295\n",
      "0.26128312945365906\n",
      "0.2612597346305847\n",
      "0.2612365186214447\n",
      "0.2612135410308838\n",
      "0.2611907124519348\n",
      "0.26116812229156494\n",
      "0.26114583015441895\n",
      "0.2611237168312073\n",
      "0.2611020505428314\n",
      "0.26108065247535706\n",
      "0.2610596716403961\n",
      "0.26103919744491577\n",
      "0.261019229888916\n",
      "0.26099997758865356\n",
      "0.26098138093948364\n",
      "0.26096394658088684\n",
      "0.2609473466873169\n",
      "0.2609323263168335\n",
      "0.260918527841568\n",
      "0.26090720295906067\n",
      "0.26089736819267273\n",
      "0.260891318321228\n",
      "0.2608872652053833\n",
      "0.26088908314704895\n",
      "0.26089319586753845\n",
      "0.26090648770332336\n",
      "0.26092228293418884\n",
      "0.2609523832798004\n",
      "0.26098427176475525\n",
      "0.261038601398468\n",
      "0.2610921263694763\n",
      "0.261180579662323\n",
      "0.26126164197921753\n",
      "0.26139646768569946\n",
      "0.2615095376968384\n",
      "0.26170381903648376\n",
      "0.2618483901023865\n",
      "0.26211270689964294\n",
      "0.2622787356376648\n",
      "0.2626156210899353\n",
      "0.26277852058410645\n",
      "0.2631762623786926\n",
      "0.2632983326911926\n",
      "0.26373031735420227\n",
      "0.26377102732658386\n",
      "0.26420319080352783\n",
      "0.26413577795028687\n",
      "0.26453933119773865\n",
      "0.2643626034259796\n",
      "0.26472413539886475\n",
      "0.26445895433425903\n",
      "0.26477888226509094\n",
      "0.26445525884628296\n",
      "0.2647414803504944\n",
      "0.26438668370246887\n",
      "0.2646479904651642\n",
      "0.26428109407424927\n",
      "0.26452407240867615\n",
      "0.2641567587852478\n",
      "0.2643857002258301\n",
      "0.2640240490436554\n",
      "0.2642413377761841\n",
      "0.2638886272907257\n",
      "0.26409608125686646\n",
      "0.263753741979599\n",
      "0.26395243406295776\n",
      "0.2636210024356842\n",
      "0.2638115882873535\n",
      "0.26349079608917236\n",
      "0.26367369294166565\n",
      "0.26336362957954407\n",
      "0.26353928446769714\n",
      "0.2632395625114441\n",
      "0.2634083926677704\n",
      "0.2631187438964844\n",
      "0.2632811665534973\n",
      "0.26300114393234253\n",
      "0.2631574273109436\n",
      "0.2628866136074066\n",
      "0.2630369961261749\n",
      "0.262775182723999\n",
      "0.2629200220108032\n",
      "0.2626665532588959\n",
      "0.2628059685230255\n",
      "0.26256063580513\n",
      "0.2626950144767761\n",
      "0.26245760917663574\n",
      "0.2625870704650879\n",
      "0.2623571753501892\n",
      "0.2624821662902832\n",
      "0.2622593939304352\n",
      "0.2623799443244934\n",
      "0.2621641457080841\n",
      "0.2622804343700409\n",
      "0.2620711624622345\n",
      "0.26218339800834656\n",
      "0.2619803547859192\n",
      "0.26208871603012085\n",
      "0.26189184188842773\n",
      "0.2619965374469757\n",
      "0.2618054747581482\n",
      "0.2619066536426544\n",
      "0.261721134185791\n",
      "0.26181894540786743\n",
      "0.261638879776001\n",
      "0.26173344254493713\n",
      "0.261558473110199\n",
      "0.261650025844574\n",
      "0.2614799737930298\n",
      "0.26156848669052124\n",
      "0.2614032030105591\n",
      "0.2614888846874237\n",
      "0.2613281011581421\n",
      "0.2614111304283142\n",
      "0.2612548768520355\n",
      "0.2613353729248047\n",
      "0.2611832916736603\n",
      "0.2612612843513489\n",
      "0.26111316680908203\n",
      "0.261188805103302\n",
      "0.2610446810722351\n",
      "0.26111796498298645\n",
      "0.260977566242218\n",
      "0.2610486149787903\n",
      "0.26091185212135315\n",
      "0.26098090410232544\n",
      "0.26084762811660767\n",
      "0.26091471314430237\n",
      "0.26078465580940247\n",
      "0.26084980368614197\n",
      "0.2607229948043823\n",
      "0.260786235332489\n",
      "0.2606625556945801\n",
      "0.2607240676879883\n",
      "0.2606034278869629\n",
      "0.260663241147995\n",
      "0.26054543256759644\n",
      "0.2606036365032196\n",
      "0.2604885697364807\n",
      "0.2605453431606293\n",
      "0.26043298840522766\n",
      "0.2604881823062897\n",
      "0.26037833094596863\n",
      "0.26043209433555603\n",
      "0.2603248059749603\n",
      "0.2603771984577179\n",
      "0.26027214527130127\n",
      "0.2603232264518738\n",
      "0.2602205276489258\n",
      "0.2602703869342804\n",
      "0.26017001271247864\n",
      "0.26021862030029297\n",
      "0.26012030243873596\n",
      "0.2601676881313324\n",
      "0.260071337223053\n",
      "0.26011767983436584\n",
      "0.2600233554840088\n",
      "0.2600685656070709\n",
      "0.25997617840766907\n",
      "0.26002025604248047\n",
      "0.25992971658706665\n",
      "0.25997278094291687\n",
      "0.25988414883613586\n",
      "0.25992631912231445\n",
      "0.25983935594558716\n",
      "0.25988060235977173\n",
      "0.2597953677177429\n",
      "0.25983572006225586\n",
      "0.2597520649433136\n",
      "0.2597915232181549\n",
      "0.2597094774246216\n",
      "0.2597481608390808\n",
      "0.25966760516166687\n",
      "0.25970545411109924\n",
      "0.25962626934051514\n",
      "0.2596634030342102\n",
      "0.25958573818206787\n",
      "0.2596220076084137\n",
      "0.2595457434654236\n",
      "0.2595813572406769\n",
      "0.2595064043998718\n",
      "0.2595413029193878\n",
      "0.2594676613807678\n",
      "0.2595019042491913\n",
      "0.25942954421043396\n",
      "0.25946319103240967\n",
      "0.2593919634819031\n",
      "0.2594248950481415\n",
      "0.259354829788208\n",
      "0.25938719511032104\n",
      "0.2593182921409607\n",
      "0.25935009121894836\n",
      "0.25928232073783875\n",
      "0.25931352376937866\n",
      "0.25924673676490784\n",
      "0.2592774033546448\n",
      "0.2592116892337799\n",
      "0.25924184918403625\n",
      "0.25917720794677734\n",
      "0.25920701026916504\n",
      "0.259143203496933\n",
      "0.25917235016822815\n",
      "0.25910964608192444\n",
      "0.2591383755207062\n",
      "0.25907647609710693\n",
      "0.25910481810569763\n",
      "0.25904381275177\n",
      "0.2590716481208801\n",
      "0.25901150703430176\n",
      "0.25903886556625366\n",
      "0.25897958874702454\n",
      "0.2590065896511078\n",
      "0.2589481472969055\n",
      "0.25897476077079773\n",
      "0.25891709327697754\n",
      "0.25894325971603394\n",
      "0.25888633728027344\n",
      "0.25891217589378357\n",
      "0.25885599851608276\n",
      "0.25888147950172424\n",
      "0.25882601737976074\n",
      "0.25885117053985596\n",
      "0.25879645347595215\n",
      "0.2588212788105011\n",
      "0.2587672472000122\n",
      "0.2587916851043701\n",
      "0.258738249540329\n",
      "0.2587624490261078\n",
      "0.25870975852012634\n",
      "0.2587336003780365\n",
      "0.25868144631385803\n",
      "0.2587049603462219\n",
      "0.25865352153778076\n",
      "0.25867676734924316\n",
      "0.25862589478492737\n",
      "0.25864890217781067\n",
      "0.2585986256599426\n",
      "0.25862133502960205\n",
      "0.2585715353488922\n",
      "0.25859397649765015\n",
      "0.25854480266571045\n",
      "0.2585669755935669\n",
      "0.25851836800575256\n",
      "0.2585403025150299\n",
      "0.25849223136901855\n",
      "0.25851383805274963\n",
      "0.2584662437438965\n",
      "0.2584877014160156\n",
      "0.2584405839443207\n",
      "0.2584618330001831\n",
      "0.25841522216796875\n",
      "0.2584361732006073\n",
      "0.25839000940322876\n",
      "0.2584107518196106\n",
      "0.25836509466171265\n",
      "0.25838565826416016\n",
      "0.25834041833877563\n",
      "0.25836071372032166\n",
      "0.25831592082977295\n",
      "0.2583360970020294\n",
      "0.25829175114631653\n",
      "0.2583116590976715\n",
      "0.25826776027679443\n",
      "0.2582874894142151\n",
      "0.25824400782585144\n",
      "0.2582635283470154\n",
      "0.2582204043865204\n",
      "0.2582397758960724\n",
      "0.25819703936576843\n",
      "0.25821617245674133\n",
      "0.2581738531589508\n",
      "0.25819289684295654\n",
      "0.25815093517303467\n",
      "0.2581698000431061\n",
      "0.25812825560569763\n",
      "0.2581469416618347\n",
      "0.2581057548522949\n",
      "0.2581242322921753\n",
      "0.25808340311050415\n",
      "0.2581017017364502\n",
      "0.25806117057800293\n",
      "0.25807932019233704\n",
      "0.2580392062664032\n",
      "0.258057177066803\n",
      "0.2580174207687378\n",
      "0.258035272359848\n",
      "0.2579957842826843\n",
      "0.25801345705986023\n",
      "0.2579742670059204\n",
      "0.25799188017845154\n",
      "0.25795304775238037\n",
      "0.2579704225063324\n",
      "0.2579318881034851\n",
      "0.25794917345046997\n",
      "0.25791096687316895\n",
      "0.2579280734062195\n",
      "0.25789016485214233\n",
      "0.2579071819782257\n",
      "0.25786957144737244\n",
      "0.25788643956184387\n",
      "0.2578490972518921\n",
      "0.257865846157074\n",
      "0.25782883167266846\n",
      "0.2578454613685608\n",
      "0.25780871510505676\n",
      "0.25782522559165955\n",
      "0.257788747549057\n",
      "0.25780507922172546\n",
      "0.2577688694000244\n",
      "0.2577851116657257\n",
      "0.25774917006492615\n",
      "0.2577653229236603\n",
      "0.25772956013679504\n",
      "0.25774556398391724\n",
      "0.25771012902259827\n",
      "0.2577260136604309\n",
      "0.25769078731536865\n",
      "0.25770652294158936\n",
      "0.257671594619751\n",
      "0.2576872408390045\n",
      "0.25765255093574524\n",
      "0.25766804814338684\n",
      "0.25763359665870667\n",
      "0.2576490640640259\n",
      "0.25761473178863525\n",
      "0.25763002038002014\n",
      "0.2575960159301758\n",
      "0.2576112449169159\n",
      "0.25757744908332825\n",
      "0.2575926184654236\n",
      "0.2575591206550598\n",
      "0.25757408142089844\n",
      "0.2575407922267914\n",
      "0.25755563378334045\n",
      "0.2575225234031677\n",
      "0.2575373351573944\n",
      "0.2575044631958008\n",
      "0.25751909613609314\n",
      "0.2574864625930786\n",
      "0.2575010061264038\n",
      "0.257468581199646\n",
      "0.25748300552368164\n",
      "0.25745081901550293\n",
      "0.257465124130249\n",
      "0.257433146238327\n",
      "0.25744736194610596\n",
      "0.25741562247276306\n",
      "0.2574297785758972\n",
      "0.25739821791648865\n",
      "0.25741222500801086\n",
      "0.2573809027671814\n",
      "0.25739485025405884\n",
      "0.2573636770248413\n",
      "0.2573775053024292\n",
      "0.25734657049179077\n",
      "0.2573603391647339\n",
      "0.2573295533657074\n",
      "0.25734323263168335\n",
      "0.2573126554489136\n",
      "0.25732624530792236\n",
      "0.2572958171367645\n",
      "0.25730931758880615\n",
      "0.2572791576385498\n",
      "0.25729256868362427\n",
      "0.2572624981403351\n",
      "0.2572758197784424\n",
      "0.2572460174560547\n",
      "0.2572592496871948\n",
      "0.25722962617874146\n",
      "0.25724276900291443\n",
      "0.2572132647037506\n",
      "0.2572263181209564\n",
      "0.2571970522403717\n",
      "0.2572099566459656\n",
      "0.2571808695793152\n",
      "0.25719374418258667\n",
      "0.25716474652290344\n",
      "0.25717753171920776\n",
      "0.257148802280426\n",
      "0.25716152787208557\n",
      "0.257132887840271\n",
      "0.257145494222641\n",
      "0.25711706280708313\n",
      "0.25712957978248596\n",
      "0.2571013271808624\n",
      "0.2571137845516205\n",
      "0.2570856809616089\n",
      "0.2570980191230774\n",
      "0.2570701241493225\n",
      "0.25708240270614624\n",
      "0.2570546865463257\n",
      "0.2570668160915375\n",
      "0.25703924894332886\n",
      "0.25705134868621826\n",
      "0.2570238709449768\n",
      "0.25703588128089905\n",
      "0.2570086121559143\n",
      "0.2570205330848694\n",
      "0.2569934129714966\n",
      "0.2570052742958069\n",
      "0.2569783329963684\n",
      "0.25699007511138916\n",
      "0.2569632828235626\n",
      "0.256974995136261\n",
      "0.2569483816623688\n",
      "0.2569600045681\n",
      "0.2569335103034973\n",
      "0.25694501399993896\n",
      "0.256918728351593\n",
      "0.25693023204803467\n",
      "0.2569040060043335\n",
      "0.2569153606891632\n",
      "0.25688934326171875\n",
      "0.2569006383419037\n",
      "0.25687476992607117\n",
      "0.25688594579696655\n",
      "0.25686025619506836\n",
      "0.25687137246131897\n",
      "0.2568458318710327\n",
      "0.25685688853263855\n",
      "0.25683149695396423\n",
      "0.2568424642086029\n",
      "0.2568172216415405\n",
      "0.2568281292915344\n",
      "0.25680306553840637\n",
      "0.2568139135837555\n",
      "0.2567889988422394\n",
      "0.25679975748062134\n",
      "0.2567749619483948\n",
      "0.25678566098213196\n",
      "0.25676101446151733\n",
      "0.25677159428596497\n",
      "0.2567470967769623\n",
      "0.25675758719444275\n",
      "0.256733238697052\n",
      "0.2567436993122101\n",
      "0.2567194402217865\n",
      "0.2567298412322998\n",
      "0.25670576095581055\n",
      "0.25671613216400146\n",
      "0.25669217109680176\n",
      "0.25670236349105835\n",
      "0.25667858123779297\n",
      "0.2566887140274048\n",
      "0.2566649913787842\n",
      "0.2566751539707184\n",
      "0.2566515803337097\n",
      "0.256661593914032\n",
      "0.25663822889328003\n",
      "0.2566481828689575\n",
      "0.2566249370574951\n",
      "0.25663480162620544\n",
      "0.2566116452217102\n",
      "0.2566215395927429\n",
      "0.25659850239753723\n",
      "0.256608247756958\n",
      "0.25658538937568665\n",
      "0.25659507513046265\n",
      "0.2565723657608032\n",
      "0.25658196210861206\n",
      "0.2565593719482422\n",
      "0.25656890869140625\n",
      "0.25654640793800354\n",
      "0.2565559446811676\n",
      "0.25653356313705444\n",
      "0.25654295086860657\n",
      "0.25652068853378296\n",
      "0.2565300464630127\n",
      "0.2565079629421234\n",
      "0.2565172612667084\n",
      "0.25649529695510864\n",
      "0.25650450587272644\n",
      "0.25648272037506104\n",
      "0.25649189949035645\n",
      "0.2564701735973358\n",
      "0.25647929310798645\n",
      "0.25645771622657776\n",
      "0.25646668672561646\n",
      "0.2564451992511749\n",
      "0.2564541697502136\n",
      "0.2564328610897064\n",
      "0.25644180178642273\n",
      "0.2564205527305603\n",
      "0.25642940402030945\n",
      "0.25640833377838135\n",
      "0.25641706585884094\n",
      "0.25639608502388\n",
      "0.2564047574996948\n",
      "0.2563839256763458\n",
      "0.25639256834983826\n",
      "0.2563718557357788\n",
      "0.25638043880462646\n",
      "0.2563598155975342\n",
      "0.25636833906173706\n",
      "0.25634780526161194\n",
      "0.25635629892349243\n",
      "0.25633591413497925\n",
      "0.25634437799453735\n",
      "0.25632402300834656\n",
      "0.2563324272632599\n",
      "0.25631222128868103\n",
      "0.2563205659389496\n",
      "0.25630050897598267\n",
      "0.25630879402160645\n",
      "0.2562888562679291\n",
      "0.2562970817089081\n",
      "0.25627726316452026\n",
      "0.2562853991985321\n",
      "0.25626569986343384\n",
      "0.2562737464904785\n",
      "0.2562541365623474\n",
      "0.2562621533870697\n",
      "0.25624269247055054\n",
      "0.25625061988830566\n",
      "0.25623127818107605\n",
      "0.2562391757965088\n",
      "0.25621989369392395\n",
      "0.2562277913093567\n",
      "0.25620853900909424\n",
      "0.2562164068222046\n",
      "0.25619733333587646\n",
      "0.25620514154434204\n",
      "0.2561861574649811\n",
      "0.2561938762664795\n",
      "0.2561749815940857\n",
      "0.2561827003955841\n",
      "0.25616392493247986\n",
      "0.2561715245246887\n",
      "0.2561528980731964\n",
      "0.2561604380607605\n",
      "0.25614190101623535\n",
      "0.25614941120147705\n",
      "0.2561309337615967\n"
     ]
    }
   ],
   "source": [
    "for _ in range(1000):\n",
    "    # forward pass\n",
    "    embeds = C[X] \n",
    "    h = torch.tanh(embeds.view(embeds.shape[0],6) @ W1 + b1)\n",
    "    logits = h @ W2 + b2\n",
    "    loss = F.cross_entropy(logits, Y)\n",
    "    print(loss.item())\n",
    "\n",
    "    # backward pass\n",
    "    for p in parameters:\n",
    "        p.grad = None\n",
    "    loss.backward()\n",
    "\n",
    "    # updating parameters\n",
    "    for p in parameters:\n",
    "        p.data += -0.1 * p.grad"
   ]
  },
  {
   "cell_type": "markdown",
   "metadata": {},
   "source": [
    "Redefine the X and Y tensors to accomodate the entire dataset and run network agian"
   ]
  },
  {
   "cell_type": "code",
   "execution_count": 110,
   "metadata": {},
   "outputs": [],
   "source": [
    "block_size = 3\n",
    "X,Y = [],[]\n",
    "\n",
    "for w in words:\n",
    "    # print(w)\n",
    "    context = [0] * block_size\n",
    "\n",
    "    for ch in w + '.':\n",
    "        ix = ch_to_idx[ch]\n",
    "        X.append(context)\n",
    "        Y.append(ix)\n",
    "        # print(''.join(idx_to_ch[i] for i in context), '--->', idx_to_ch[ix])\n",
    "        # print('+'.join(f'{i}' for i in context), '--->', f'{ix}')\n",
    "        context = context[1:] + [ix]\n",
    "\n",
    "X = torch.tensor(X)\n",
    "Y = torch.tensor(Y)"
   ]
  },
  {
   "cell_type": "code",
   "execution_count": 112,
   "metadata": {},
   "outputs": [
    {
     "data": {
      "text/plain": [
       "(torch.Size([228146, 3]), torch.Size([228146]))"
      ]
     },
     "execution_count": 112,
     "metadata": {},
     "output_type": "execute_result"
    }
   ],
   "source": [
    "X.shape, Y.shape"
   ]
  },
  {
   "cell_type": "code",
   "execution_count": 111,
   "metadata": {},
   "outputs": [
    {
     "name": "stdout",
     "output_type": "stream",
     "text": [
      "19.505229949951172\n",
      "17.08448600769043\n",
      "15.776531219482422\n",
      "14.833338737487793\n",
      "14.002596855163574\n",
      "13.253255844116211\n",
      "12.579915046691895\n",
      "11.983097076416016\n",
      "11.470491409301758\n",
      "11.05185604095459\n"
     ]
    }
   ],
   "source": [
    "g = torch.Generator().manual_seed(2147483647)\n",
    "C = torch.randn((27,2), generator = g)\n",
    "W1 = torch.randn((6,100), generator=g)\n",
    "b1 = torch.randn(100, generator=g)\n",
    "W2 = torch.randn((100,27), generator=g)\n",
    "b2 = torch.randn(27, generator=g)\n",
    "parameters = [C,W1,b1,W2,b2]\n",
    "\n",
    "for p in parameters:\n",
    "    p.requires_grad = True\n",
    "\n",
    "for _ in range(10):\n",
    "    # forward pass\n",
    "    embeds = C[X] \n",
    "    h = torch.tanh(embeds.view(embeds.shape[0],6) @ W1 + b1)\n",
    "    logits = h @ W2 + b2\n",
    "    loss = F.cross_entropy(logits, Y)\n",
    "    print(loss.item())\n",
    "\n",
    "    # backward pass\n",
    "    for p in parameters:\n",
    "        p.grad = None\n",
    "    loss.backward()\n",
    "\n",
    "    # updating parameters\n",
    "    for p in parameters:\n",
    "        p.data += -0.1 * p.grad"
   ]
  },
  {
   "cell_type": "markdown",
   "metadata": {},
   "source": [
    "Instead of doing a forward and backward pass on all 228146 inputs, a batch wise feeding is more optimal.\n",
    "\n",
    "This code creates 32 random numbers between 0 and 228146."
   ]
  },
  {
   "cell_type": "code",
   "execution_count": 114,
   "metadata": {},
   "outputs": [
    {
     "data": {
      "text/plain": [
       "tensor([189961, 199000, 226334,  13372, 108055,  46234, 147224, 187655, 209012,\n",
       "         89834, 182681,  21801, 152483, 110114,   7443,  25768, 155759, 136238,\n",
       "        194484, 105412,  76786, 154462,  94756, 211922, 197173, 101456,  12705,\n",
       "         97112,  46783, 218754,  21526, 109948])"
      ]
     },
     "execution_count": 114,
     "metadata": {},
     "output_type": "execute_result"
    }
   ],
   "source": [
    "torch.randint(0,X.shape[0],(32,))"
   ]
  },
  {
   "cell_type": "markdown",
   "metadata": {},
   "source": [
    "implementing batches in training"
   ]
  },
  {
   "cell_type": "code",
   "execution_count": 211,
   "metadata": {},
   "outputs": [],
   "source": [
    "g = torch.Generator().manual_seed(2147483647)\n",
    "C = torch.randn((27,2), generator = g)\n",
    "W1 = torch.randn((6,100), generator=g)\n",
    "b1 = torch.randn(100, generator=g)\n",
    "W2 = torch.randn((100,27), generator=g)\n",
    "b2 = torch.randn(27, generator=g)\n",
    "parameters = [C,W1,b1,W2,b2]\n",
    "\n",
    "for p in parameters:\n",
    "    p.requires_grad = True"
   ]
  },
  {
   "cell_type": "code",
   "execution_count": 156,
   "metadata": {},
   "outputs": [
    {
     "name": "stdout",
     "output_type": "stream",
     "text": [
      "2.5851738452911377\n"
     ]
    }
   ],
   "source": [
    "for _ in range(1000):\n",
    "    # batches\n",
    "    batch_indexes = torch.randint(0, X.shape[0], (32,))\n",
    "\n",
    "    # forward pass\n",
    "    embeds = C[X[batch_indexes]] \n",
    "    h = torch.tanh(embeds.view(embeds.shape[0],6) @ W1 + b1)\n",
    "    logits = h @ W2 + b2\n",
    "    loss = F.cross_entropy(logits, Y[batch_indexes])\n",
    "\n",
    "    # backward pass\n",
    "    for p in parameters:\n",
    "        p.grad = None\n",
    "    loss.backward()\n",
    "\n",
    "    # updating parameters\n",
    "    for p in parameters:\n",
    "        p.data += -0.1 * p.grad\n",
    "print(loss.item())"
   ]
  },
  {
   "cell_type": "markdown",
   "metadata": {},
   "source": [
    "Gradients calculated in batch wise training vs all instance trainings vary in accuracy. The gradients calculated in **all instance trainings** are much more **accurate**, however this is **not advised**, it is recommended to have more steps during training using batches rather than having accurate gradients to converge faster.  "
   ]
  },
  {
   "cell_type": "markdown",
   "metadata": {},
   "source": [
    "Learning Rate Determination:\n",
    "\n",
    "How fast or slow can help a model converge faster or overshoot the minimum. A dynamic range of learning rates can be set."
   ]
  },
  {
   "cell_type": "code",
   "execution_count": 212,
   "metadata": {},
   "outputs": [],
   "source": [
    "lre = torch.linspace(-3,0,steps = 1000)\n",
    "lrs = 10**lre"
   ]
  },
  {
   "cell_type": "code",
   "execution_count": 219,
   "metadata": {},
   "outputs": [
    {
     "name": "stdout",
     "output_type": "stream",
     "text": [
      "2.963762044906616\n"
     ]
    }
   ],
   "source": [
    "lr_log = []\n",
    "lr_exponent_log = []\n",
    "lr_loss_log = []\n",
    "\n",
    "for i in range(1000):\n",
    "    # batches\n",
    "    batch_indexes = torch.randint(0, X.shape[0], (32,))\n",
    "\n",
    "    # forward pass\n",
    "    embeds = C[X[batch_indexes]] \n",
    "    h = torch.tanh(embeds.view(embeds.shape[0],6) @ W1 + b1)\n",
    "    logits = h @ W2 + b2\n",
    "    loss = F.cross_entropy(logits, Y[batch_indexes])\n",
    "\n",
    "    # backward pass\n",
    "    for p in parameters:\n",
    "        p.grad = None\n",
    "    loss.backward()\n",
    "\n",
    "    # updating parameters\n",
    "    lr = lrs[i]\n",
    "    for p in parameters:\n",
    "        # p.data += -0.1 * p.grad\n",
    "        p.data += -lr * p.grad\n",
    "\n",
    "    lr_log.append(lr)\n",
    "    lr_exponent_log.append(lre[i])\n",
    "    lr_loss_log.append(loss.item())\n",
    "\n",
    "print(loss.item())"
   ]
  },
  {
   "cell_type": "code",
   "execution_count": 220,
   "metadata": {},
   "outputs": [
    {
     "data": {
      "text/plain": [
       "[<matplotlib.lines.Line2D at 0x167e730e0>]"
      ]
     },
     "execution_count": 220,
     "metadata": {},
     "output_type": "execute_result"
    },
    {
     "data": {
      "image/png": "[encoded data removed]",
      "text/plain": [
       "<Figure size 640x480 with 1 Axes>"
      ]
     },
     "metadata": {},
     "output_type": "display_data"
    }
   ],
   "source": [
    "plt.plot(lr_log,lr_loss_log)"
   ]
  },
  {
   "cell_type": "code",
   "execution_count": 221,
   "metadata": {},
   "outputs": [
    {
     "data": {
      "text/plain": [
       "[<matplotlib.lines.Line2D at 0x16da65610>]"
      ]
     },
     "execution_count": 221,
     "metadata": {},
     "output_type": "execute_result"
    },
    {
     "data": {
      "image/png": "[encoded data removed]",
      "text/plain": [
       "<Figure size 640x480 with 1 Axes>"
      ]
     },
     "metadata": {},
     "output_type": "display_data"
    }
   ],
   "source": [
    "plt.plot(lr_exponent_log, lr_loss_log)"
   ]
  },
  {
   "cell_type": "markdown",
   "metadata": {},
   "source": [
    "Through the graph of log_exponents we can find the appropriate exponent for 10 to be set for learning rate.\n",
    "\n",
    "At the end stages of learning (when the loss goes really low), implement learning rate decay, which means reducing the learning rate by a factor to slow down the gradient descent step and repeat the steps to further optimize the model."
   ]
  },
  {
   "cell_type": "markdown",
   "metadata": {},
   "source": [
    "Training, dev/validation, test split\n",
    "80%, 10%, 10%\n",
    "validation split is used for hyperparameters tuning.\n",
    "\n",
    "Hyperparameters are the size of the hidden layer, size of embedding, regularizatoin etc."
   ]
  },
  {
   "cell_type": "code",
   "execution_count": null,
   "metadata": {},
   "outputs": [],
   "source": [
    "def build_dataset(words):\n",
    "    block_size = 3\n",
    "    X,Y = [],[]\n",
    "\n",
    "    for w in words:\n",
    "        # print(w)\n",
    "        context = [0] * block_size\n",
    "\n",
    "        for ch in w + '.':\n",
    "            ix = ch_to_idx[ch]\n",
    "            X.append(context)\n",
    "            Y.append(ix)\n",
    "            # print(''.join(idx_to_ch[i] for i in context), '--->', idx_to_ch[ix])\n",
    "            # print('+'.join(f'{i}' for i in context), '--->', f'{ix}')\n",
    "            context = context[1:] + [ix]\n",
    "\n",
    "    X = torch.tensor(X)\n",
    "    Y = torch.tensor(Y)\n",
    "    return X,Y\n",
    "\n",
    "import random\n",
    "random.seed(42)\n",
    "random.shuffle(words)\n",
    "n1 = 0.8 * len(words)\n",
    "n2 = 0.9 * len(words)\n",
    "\n",
    "X_train, Y_train = build_dataset(words[:n1])\n",
    "X_val, Y_val = build_dataset(words[n1:n2])\n",
    "X_test, Y_test = build_dataset(words[:n2])"
   ]
  },
  {
   "cell_type": "markdown",
   "metadata": {},
   "source": [
    "If the training loss and validation loss is very similar, that indicates underfitting. "
   ]
  },
  {
   "cell_type": "markdown",
   "metadata": {},
   "source": [
    "Sampling:"
   ]
  },
  {
   "cell_type": "code",
   "execution_count": 223,
   "metadata": {},
   "outputs": [
    {
     "name": "stdout",
     "output_type": "stream",
     "text": [
      "cee.\n",
      "maioaleunaice.\n",
      "veyha.\n",
      "venimi.\n",
      "nain.\n",
      "lenan.\n",
      "man.\n",
      "a.\n",
      "rleinauhlanhe.\n",
      "ile.\n"
     ]
    }
   ],
   "source": [
    "g = torch.Generator().manual_seed(2147483647)\n",
    "\n",
    "# creating 10 names\n",
    "for _ in range(10):\n",
    "\n",
    "    context = [0] * block_size\n",
    "    output = []\n",
    "    flag = True\n",
    "    while flag:\n",
    "\n",
    "        embed = C[torch.tensor([context])]\n",
    "        h = torch.tanh(embed.view(1,-1) @ W1 + b1)\n",
    "        logits = h @ W2 + b2\n",
    "        # count = logits.exp()\n",
    "        # probab = count / count.sum(1,keepdim=True)\n",
    "        probab = F.softmax(logits, dim = 1)\n",
    "\n",
    "        next_ix = torch.multinomial(probab, num_samples=1, replacement=True,generator=g).item()\n",
    "        output.append(idx_to_ch[next_ix])\n",
    "        context = context[1:] + [next_ix]\n",
    "\n",
    "        if next_ix == 0:\n",
    "            flag = False\n",
    "\n",
    "    print(''.join(output))"
   ]
  }
 ],
 "metadata": {
  "kernelspec": {
   "display_name": "base",
   "language": "python",
   "name": "python3"
  },
  "language_info": {
   "codemirror_mode": {
    "name": "ipython",
    "version": 3
   },
   "file_extension": ".py",
   "mimetype": "text/x-python",
   "name": "python",
   "nbconvert_exporter": "python",
   "pygments_lexer": "ipython3",
   "version": "3.12.4"
  }
 },
 "nbformat": 4,
 "nbformat_minor": 2
}
